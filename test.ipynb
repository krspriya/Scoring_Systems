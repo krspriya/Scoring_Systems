{
 "cells": [
  {
   "cell_type": "code",
   "execution_count": 1,
   "metadata": {},
   "outputs": [
    {
     "name": "stdout",
     "output_type": "stream",
     "text": [
      "Name: scikit-learn\n",
      "Version: 1.5.0\n",
      "Summary: A set of python modules for machine learning and data mining\n",
      "Home-page: https://scikit-learn.org\n",
      "Author: \n",
      "Author-email: \n",
      "License: new BSD\n",
      "Location: c:\\Users\\sssnj\\AppData\\Local\\Programs\\Python\\Python312\\Lib\\site-packages\n",
      "Requires: joblib, numpy, scipy, threadpoolctl\n",
      "Required-by: \n",
      "Note: you may need to restart the kernel to use updated packages.\n"
     ]
    }
   ],
   "source": [
    "pip show scikit-learn"
   ]
  },
  {
   "cell_type": "code",
   "execution_count": 10,
   "metadata": {},
   "outputs": [],
   "source": [
    "import pandas as pd\n",
    "import pickle\n",
    "\n",
    "# Load the model from pickle file\n",
    "with open('Clinic_Score2.pkl', 'rb') as file:\n",
    "    model = pickle.load(file)"
   ]
  },
  {
   "cell_type": "code",
   "execution_count": 14,
   "metadata": {},
   "outputs": [],
   "source": [
    "# Define the input parameters\n",
    "input_data = {\n",
    "    'Age': [60, 70, 50],\n",
    "    'HeartRate': [95, 80, 85],\n",
    "    'SystolicBP': [145, 160, 165],\n",
    "    'DiastolicBP': [90, 95, 100],\n",
    "    'RespiratoryRate': [22, 20, 23],\n",
    "    'BodyTemperature': [37.8, 38.2, 39.1],\n",
    "    'SpO2': [93, 92, 95],\n",
    "    'WBC': [10.5, 12.0, 12.2],\n",
    "    'BloodGlucose': [115, 130, 120],\n",
    "    'Hemoglobin': [13.0, 11.5, 10.0],\n",
    "    'PlateletCount': [150, 100, 110],\n",
    "    'SerumCreatinine': [1.4, 1.8, 1.5],\n",
    "    'BUN': [22, 25, 23],\n",
    "    'SerumSodium': [137, 150, 145],\n",
    "    'SerumPotassium': [3.2, 5.5, 4.3],\n",
    "    'TotalCholesterol': [250, 260, 220],\n",
    "    'HDLCholesterol': [35, 30, 32],\n",
    "    'LDLCholesterol': [170, 180, 175]\n",
    "}"
   ]
  },
  {
   "cell_type": "code",
   "execution_count": 15,
   "metadata": {},
   "outputs": [],
   "source": [
    "# Convert input_data to DataFrame\n",
    "input_df = pd.DataFrame(input_data)\n",
    "\n",
    "# Predict using the loaded model\n",
    "predicted_scores = model.predict(input_df)"
   ]
  },
  {
   "cell_type": "code",
   "execution_count": 16,
   "metadata": {},
   "outputs": [
    {
     "name": "stdout",
     "output_type": "stream",
     "text": [
      "Predicted Score for Patient 1: 6.435931216352141\n",
      "Predicted Score for Patient 2: 8.229047854944875\n",
      "Predicted Score for Patient 3: 6.02268137451749\n"
     ]
    }
   ],
   "source": [
    "# Display the predicted scores\n",
    "for i, score in enumerate(predicted_scores):\n",
    "    print(f'Predicted Score for Patient {i+1}: {score}')"
   ]
  },
  {
   "cell_type": "code",
   "execution_count": 17,
   "metadata": {},
   "outputs": [],
   "source": [
    "# Rank patients based on predicted scores (in decreasing order of seriousness)\n",
    "input_df['PredictedScore'] = predicted_scores\n",
    "input_df['Rank'] = input_df['PredictedScore'].rank(ascending=False).astype(int)\n"
   ]
  },
  {
   "cell_type": "code",
   "execution_count": 29,
   "metadata": {},
   "outputs": [
    {
     "name": "stdout",
     "output_type": "stream",
     "text": [
      "\n",
      "Ranked Results:\n",
      "   PredictedScore  Rank\n",
      "0        6.435931     2\n",
      "1        8.229048     1\n",
      "2        6.022681     3\n"
     ]
    }
   ],
   "source": [
    "# Display the ranked results\n",
    "print(\"\\nRanked Results:\")\n",
    "print(input_df[['PredictedScore', 'Rank']])\n"
   ]
  },
  {
   "cell_type": "code",
   "execution_count": 30,
   "metadata": {},
   "outputs": [
    {
     "name": "stdout",
     "output_type": "stream",
     "text": [
      "\n",
      "Top 10 Patients:\n",
      "   Age  HeartRate  SystolicBP  DiastolicBP  RespiratoryRate  BodyTemperature  \\\n",
      "1   70         80         160           95               20             38.2   \n",
      "0   60         95         145           90               22             37.8   \n",
      "2   50         85         165          100               23             39.1   \n",
      "\n",
      "   SpO2   WBC  BloodGlucose  Hemoglobin  PlateletCount  SerumCreatinine  BUN  \\\n",
      "1    92  12.0           130        11.5            100              1.8   25   \n",
      "0    93  10.5           115        13.0            150              1.4   22   \n",
      "2    95  12.2           120        10.0            110              1.5   23   \n",
      "\n",
      "   SerumSodium  SerumPotassium  TotalCholesterol  HDLCholesterol  \\\n",
      "1          150             5.5               260              30   \n",
      "0          137             3.2               250              35   \n",
      "2          145             4.3               220              32   \n",
      "\n",
      "   LDLCholesterol  PredictedScore  Rank  \n",
      "1             180        8.229048     1  \n",
      "0             170        6.435931     2  \n",
      "2             175        6.022681     3  \n"
     ]
    }
   ],
   "source": [
    "# Example output of the top 10 patients based on predicted scores\n",
    "print(\"\\nTop 10 Patients:\")\n",
    "print(input_df.sort_values(by='PredictedScore', ascending=False).head(10))"
   ]
  }
 ],
 "metadata": {
  "kernelspec": {
   "display_name": "Python 3",
   "language": "python",
   "name": "python3"
  },
  "language_info": {
   "codemirror_mode": {
    "name": "ipython",
    "version": 3
   },
   "file_extension": ".py",
   "mimetype": "text/x-python",
   "name": "python",
   "nbconvert_exporter": "python",
   "pygments_lexer": "ipython3",
   "version": "3.12.1"
  }
 },
 "nbformat": 4,
 "nbformat_minor": 2
}
